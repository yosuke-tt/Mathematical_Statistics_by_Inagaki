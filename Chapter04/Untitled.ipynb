{
 "cells": [
  {
   "cell_type": "code",
   "execution_count": 1,
   "metadata": {},
   "outputs": [
    {
     "data": {
      "text/plain": [
       "3"
      ]
     },
     "execution_count": 1,
     "metadata": {},
     "output_type": "execute_result"
    }
   ],
   "source": [
    "a = 3"
   ]
  },
  {
   "cell_type": "code",
   "execution_count": 3,
   "metadata": {},
   "outputs": [
    {
     "data": {
      "text/plain": [
       "101×101 Array{Int64,2}:\n",
       "   0    1    2    3    4    5    6    7  …   94   95   96   97   98   99  100\n",
       "   1    2    3    4    5    6    7    8      95   96   97   98   99  100  101\n",
       "   2    3    4    5    6    7    8    9      96   97   98   99  100  101  102\n",
       "   3    4    5    6    7    8    9   10      97   98   99  100  101  102  103\n",
       "   4    5    6    7    8    9   10   11      98   99  100  101  102  103  104\n",
       "   5    6    7    8    9   10   11   12  …   99  100  101  102  103  104  105\n",
       "   6    7    8    9   10   11   12   13     100  101  102  103  104  105  106\n",
       "   7    8    9   10   11   12   13   14     101  102  103  104  105  106  107\n",
       "   8    9   10   11   12   13   14   15     102  103  104  105  106  107  108\n",
       "   9   10   11   12   13   14   15   16     103  104  105  106  107  108  109\n",
       "  10   11   12   13   14   15   16   17  …  104  105  106  107  108  109  110\n",
       "  11   12   13   14   15   16   17   18     105  106  107  108  109  110  111\n",
       "  12   13   14   15   16   17   18   19     106  107  108  109  110  111  112\n",
       "   ⋮                        ⋮            ⋱         ⋮                        ⋮\n",
       "  89   90   91   92   93   94   95   96     183  184  185  186  187  188  189\n",
       "  90   91   92   93   94   95   96   97  …  184  185  186  187  188  189  190\n",
       "  91   92   93   94   95   96   97   98     185  186  187  188  189  190  191\n",
       "  92   93   94   95   96   97   98   99     186  187  188  189  190  191  192\n",
       "  93   94   95   96   97   98   99  100     187  188  189  190  191  192  193\n",
       "  94   95   96   97   98   99  100  101     188  189  190  191  192  193  194\n",
       "  95   96   97   98   99  100  101  102  …  189  190  191  192  193  194  195\n",
       "  96   97   98   99  100  101  102  103     190  191  192  193  194  195  196\n",
       "  97   98   99  100  101  102  103  104     191  192  193  194  195  196  197\n",
       "  98   99  100  101  102  103  104  105     192  193  194  195  196  197  198\n",
       "  99  100  101  102  103  104  105  106     193  194  195  196  197  198  199\n",
       " 100  101  102  103  104  105  106  107  …  194  195  196  197  198  199  200"
      ]
     },
     "execution_count": 3,
     "metadata": {},
     "output_type": "execute_result"
    }
   ],
   "source": [
    "l = [x + y for x in 0:100, y in 0:100 ]"
   ]
  },
  {
   "cell_type": "code",
   "execution_count": 3,
   "metadata": {},
   "outputs": [
    {
     "data": {
      "text/plain": [
       "\"うんち\""
      ]
     },
     "execution_count": 3,
     "metadata": {},
     "output_type": "execute_result"
    }
   ],
   "source": [
    "💩 = \"うんち\""
   ]
  },
  {
   "cell_type": "code",
   "execution_count": 4,
   "metadata": {},
   "outputs": [
    {
     "data": {
      "text/plain": [
       "\"うんち\""
      ]
     },
     "execution_count": 4,
     "metadata": {},
     "output_type": "execute_result"
    }
   ],
   "source": [
    "💩"
   ]
  },
  {
   "cell_type": "code",
   "execution_count": null,
   "metadata": {},
   "outputs": [],
   "source": []
  }
 ],
 "metadata": {
  "kernelspec": {
   "display_name": "Julia 1.4.0",
   "language": "julia",
   "name": "julia-1.4"
  },
  "language_info": {
   "file_extension": ".jl",
   "mimetype": "application/julia",
   "name": "julia",
   "version": "1.4.0"
  }
 },
 "nbformat": 4,
 "nbformat_minor": 4
}
