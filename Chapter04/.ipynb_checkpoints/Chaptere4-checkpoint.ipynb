{
 "cells": [
  {
   "cell_type": "markdown",
   "metadata": {},
   "source": [
    "# 正規分布と線形回帰"
   ]
  },
  {
   "cell_type": "markdown",
   "metadata": {},
   "source": [
    "ただいま、数理統計学（著　稲垣宣生）で勉強中です。\n",
    "https://www.amazon.co.jp/%E6%95%B0%E7%90%86%E7%B5%B1%E8%A8%88%E5%AD%A6-%E6%95%B0%E5%AD%A6%E3%82%B7%E3%83%AA%E3%83%BC%E3%82%BA-%E7%A8%B2%E5%9E%A3-%E5%AE%A3%E7%94%9F/dp/4785314117"
   ]
  },
  {
   "cell_type": "markdown",
   "metadata": {},
   "source": [
    "普段はこの解答や解説を書いたりしてます。"
   ]
  },
  {
   "cell_type": "markdown",
   "metadata": {},
   "source": [
    "その中で、\n",
    "\n",
    ">条件付き平均$E[Y|X]$のことを$Y$の$X$への一般回帰というが、線形回帰ではこれがXの線形関係になっていることに注意しよう。\n",
    ">すなわち,$Y$の$X$への回帰$\\hat{Y}$とその残差$Y-\\hat{Y}$は\n",
    ">$\\hat{Y}=\\mu_2+\\frac{\\sigma_{12}}{\\sigma_1^2}(X-mu_1)$\n",
    ">$Y-\\hat{Y}=Y-\\mu_2-\\frac{\\sigma_{12}}{\\sigma_1^2}(X-mu_1)$\n",
    ">でありこれらは独立であることが示される。\n",
    "\n",
    "と書いてある"
   ]
  },
  {
   "cell_type": "markdown",
   "metadata": {},
   "source": [
    "結論としてはわからなかったけどJuliaの勉強になりました。"
   ]
  },
  {
   "cell_type": "markdown",
   "metadata": {},
   "source": [
    "この中のすなわちの部分が理解できなかった。なぜ、線形関係になっていることと$Y$とその残差が”すなわち”でつながるのか。"
   ]
  },
  {
   "cell_type": "code",
   "execution_count": 2,
   "metadata": {},
   "outputs": [],
   "source": [
    "# import Pkg; \n",
    "# Pkg.add(\"Plots\")\n",
    "\n",
    "# Pkg.add(\"Distributions\")\n",
    "# Pkg.add(\"StatPlots\")\n",
    "# Pkg.add(\"Interaction\")\n"
   ]
  },
  {
   "cell_type": "markdown",
   "metadata": {},
   "source": [
    "図を書いてみればわかるのかもしれないと思い描く。"
   ]
  },
  {
   "cell_type": "code",
   "execution_count": 3,
   "metadata": {},
   "outputs": [],
   "source": [
    "using Plots\n",
    "using Distributions\n",
    "using StatsPlots"
   ]
  },
  {
   "cell_type": "code",
   "execution_count": 4,
   "metadata": {},
   "outputs": [],
   "source": [
    "# Pkg.rm(\"StatPlots\")\n",
    "# Pkg.add(\"StatsPlots\")"
   ]
  },
  {
   "cell_type": "code",
   "execution_count": 5,
   "metadata": {},
   "outputs": [],
   "source": [
    "# using StatsPlots"
   ]
  },
  {
   "cell_type": "code",
   "execution_count": 6,
   "metadata": {},
   "outputs": [
    {
     "data": {
      "text/plain": [
       "0.5"
      ]
     },
     "execution_count": 6,
     "metadata": {},
     "output_type": "execute_result"
    }
   ],
   "source": [
    "μ1 = 3\n",
    "μ2 = 5\n",
    "\n",
    "σ1 = 2\n",
    "σ2 = 3\n",
    "\n",
    "ρ = 0.5"
   ]
  },
  {
   "cell_type": "code",
   "execution_count": 7,
   "metadata": {},
   "outputs": [],
   "source": [
    "n1=Normal(μ1,σ1)\n",
    "n2=Normal(μ2,σ2)\n",
    "\n",
    "\n",
    "plot(n1,fill=(0, .5,:orange))\n",
    "plot!(n2,fill=(0, .5,:blue))\n",
    "savefig(\"./img/gaussplots.png\")"
   ]
  },
  {
   "cell_type": "code",
   "execution_count": 8,
   "metadata": {},
   "outputs": [
    {
     "data": {
      "text/plain": [
       "gussian2D (generic function with 1 method)"
      ]
     },
     "execution_count": 8,
     "metadata": {},
     "output_type": "execute_result"
    }
   ],
   "source": [
    "function gussian2D(x,y,μ1,μ2,σ1,σ2,ρ)\n",
    "    \n",
    "    X = (x-μ1)/σ1\n",
    "    Y = (y-μ2)/σ2\n",
    "\n",
    "     (1/2*pi)*(1/(sqrt(1-ρ^2)*σ1*σ2))*exp(-(1/(2*(1-ρ^2))*(X^2-2ρ*X*Y+Y^2)))\n",
    "end"
   ]
  },
  {
   "cell_type": "code",
   "execution_count": 9,
   "metadata": {},
   "outputs": [
    {
     "data": {
      "text/plain": [
       "1601×1601 Array{Float64,2}:\n",
       " 0.000233343  0.000234641  0.000235943  …  1.02007e-8  1.00175e-8  9.83738e-9\n",
       " 0.000236471  0.000237789  0.000239111     1.05226e-8  1.03337e-8  1.01481e-8\n",
       " 0.000239633  0.000240971  0.000242314     1.08544e-8  1.06596e-8  1.04682e-8\n",
       " 0.000242829  0.000244188  0.000245551     1.11962e-8  1.09954e-8  1.07981e-8\n",
       " 0.00024606   0.00024744   0.000248824     1.15484e-8  1.13414e-8  1.1138e-8\n",
       " 0.000249325  0.000250726  0.000252131  …  1.19113e-8  1.16979e-8  1.14883e-8\n",
       " 0.000252626  0.000254048  0.000255475     1.22851e-8  1.20653e-8  1.18491e-8\n",
       " 0.000255961  0.000257405  0.000258853     1.26703e-8  1.24437e-8  1.22209e-8\n",
       " 0.000259332  0.000260798  0.000262268     1.30671e-8  1.28336e-8  1.2604e-8\n",
       " 0.000262738  0.000264226  0.000265719     1.34759e-8  1.32352e-8  1.29986e-8\n",
       " 0.000266181  0.000267691  0.000269206  …  1.38971e-8  1.3649e-8   1.34051e-8\n",
       " 0.000269659  0.000271192  0.00027273      1.43309e-8  1.40752e-8  1.38238e-8\n",
       " 0.000273174  0.00027473   0.000276291     1.47778e-8  1.45142e-8  1.42552e-8\n",
       " ⋮                                      ⋱                          ⋮\n",
       " 1.96453e-13  2.01065e-13  2.05782e-13     1.53779e-5  1.53706e-5  1.53632e-5\n",
       " 1.88816e-13  1.93251e-13  1.97787e-13  …  1.50448e-5  1.50379e-5  1.50308e-5\n",
       " 1.8147e-13   1.85734e-13  1.90096e-13     1.47185e-5  1.47119e-5  1.47051e-5\n",
       " 1.74404e-13  1.78504e-13  1.82698e-13     1.43988e-5  1.43925e-5  1.4386e-5\n",
       " 1.67607e-13  1.7155e-13   1.75582e-13     1.40856e-5  1.40796e-5  1.40734e-5\n",
       " 1.6107e-13   1.64861e-13  1.68738e-13     1.37787e-5  1.3773e-5   1.37671e-5\n",
       " 1.54783e-13  1.58427e-13  1.62155e-13  …  1.3478e-5   1.34726e-5  1.3467e-5\n",
       " 1.48736e-13  1.5224e-13   1.55823e-13     1.31835e-5  1.31783e-5  1.3173e-5\n",
       " 1.42921e-13  1.46289e-13  1.49734e-13     1.2895e-5   1.28901e-5  1.2885e-5\n",
       " 1.37328e-13  1.40566e-13  1.43878e-13     1.26124e-5  1.26077e-5  1.26028e-5\n",
       " 1.3195e-13   1.35063e-13  1.38247e-13     1.23355e-5  1.23311e-5  1.23265e-5\n",
       " 1.26778e-13  1.2977e-13   1.32831e-13  …  1.20644e-5  1.20602e-5  1.20558e-5"
      ]
     },
     "execution_count": 9,
     "metadata": {},
     "output_type": "execute_result"
    }
   ],
   "source": [
    "guss2d_array = [gussian2D(xx,yy,μ1,μ2,σ1,σ2,ρ ) for xx in -4:0.01:12, yy in -4:0.01:12 ]"
   ]
  },
  {
   "cell_type": "code",
   "execution_count": 10,
   "metadata": {},
   "outputs": [],
   "source": [
    "yticks_values = [0,400,700,800,1200,1600]\n",
    "yticks_labels = [\"-4\",\"0\",\"3\",\"4\",\"8\",\"12\"]\n",
    "xticks_values = [0,400,800,900,1200,1600]\n",
    "xticks_labels = [\"-4\",\"0\",\"4\",\"5\",\"8\",\"12\"]\n",
    "contour(guss2d_array, fill = true,xticks = (xticks_values,xticks_labels),\n",
    "    yticks = (yticks_values,yticks_labels))\n",
    "plot!([0,1600],[300,300])\n",
    "savefig(\"./img/heatmap.png\")"
   ]
  },
  {
   "cell_type": "code",
   "execution_count": 11,
   "metadata": {},
   "outputs": [],
   "source": [
    "yticks_values = [0,400,700,800,1200,1600]\n",
    "yticks_labels = [\"-4\",\"0\",\"3\",\"4\",\"8\",\"12\"]\n",
    "xticks_values = [0,400,800,900,1200,1600]\n",
    "xticks_labels = [\"-4\",\"0\",\"4\",\"5\",\"8\",\"12\"]\n",
    "surface(guss2d_array, fill = true,xticks = (xticks_values,xticks_labels),\n",
    "    yticks = (yticks_values,yticks_labels))\n",
    "\n",
    "savefig(\"./img/surface3d.png\")"
   ]
  },
  {
   "cell_type": "code",
   "execution_count": 12,
   "metadata": {},
   "outputs": [],
   "source": [
    "plot(guss2d_array[:,300],fill=(0,0.5,:orange),xticks = (xticks_values,xticks_labels))\n",
    "\n",
    "savefig(\"./img/surfaceCut.png\")"
   ]
  },
  {
   "cell_type": "code",
   "execution_count": 13,
   "metadata": {},
   "outputs": [
    {
     "data": {
      "text/plain": [
       "1601×1 Array{Int64,2}:\n",
       "  376\n",
       "  377\n",
       "  377\n",
       "  378\n",
       "  379\n",
       "  380\n",
       "  380\n",
       "  381\n",
       "  382\n",
       "  383\n",
       "  383\n",
       "  384\n",
       "  385\n",
       "    ⋮\n",
       " 1568\n",
       " 1568\n",
       " 1569\n",
       " 1570\n",
       " 1571\n",
       " 1571\n",
       " 1572\n",
       " 1573\n",
       " 1574\n",
       " 1574\n",
       " 1575\n",
       " 1576"
      ]
     },
     "execution_count": 13,
     "metadata": {},
     "output_type": "execute_result"
    }
   ],
   "source": [
    "arg_list = mapslices(argmax,guss2d_array,dims=2)"
   ]
  },
  {
   "cell_type": "code",
   "execution_count": 20,
   "metadata": {},
   "outputs": [],
   "source": [
    "yticks_values = [0,400,700,800,1200,1600]\n",
    "yticks_labels = [\"-4\",\"0\",\"3\",\"4(E[Y])\",\"8\",\"12\"]\n",
    "xticks_values = [0,400,800,900,1200,1600]\n",
    "xticks_labels = [\"-4\",\"0\",\"4\",\"5(E[X])\",\"8\",\"12\"]\n",
    "contour(guss2d_array, fill = true,xticks = (xticks_values,xticks_labels),yticks = (yticks_values,yticks_labels),title=\"2D Gauss Disturibution\")\n",
    "plot!(arg_list, [y for y in 0:1600], label =\"E[Y|X]\", lw = 2, c=\"green\")\n",
    "plot!([(μ2+4)*100], linetype=[:vline], lw=[2], label=\"E[Y]\", linestyle = :dot, c = :lightgreen)\n",
    "plot!([(μ1+4)*100], linetype=[:hline], lw=[2], label=\"E[X]\", linestyle = :dot, c = :lightgreen)\n",
    "savefig(\"./img/gaussdistribute.png\")"
   ]
  },
  {
   "cell_type": "markdown",
   "metadata": {},
   "source": [
    "## 参考\n",
    "Juliaで学ぶ確率変数(5) - 正規分布（連続型）\n",
    "https://qiita.com/sand/items/4c3ef0b0504704074681"
   ]
  },
  {
   "cell_type": "code",
   "execution_count": null,
   "metadata": {},
   "outputs": [],
   "source": []
  }
 ],
 "metadata": {
  "kernelspec": {
   "display_name": "Julia 1.4.0",
   "language": "julia",
   "name": "julia-1.4"
  },
  "language_info": {
   "file_extension": ".jl",
   "mimetype": "application/julia",
   "name": "julia",
   "version": "1.4.0"
  }
 },
 "nbformat": 4,
 "nbformat_minor": 4
}
